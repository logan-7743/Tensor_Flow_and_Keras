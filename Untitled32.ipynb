{
  "nbformat": 4,
  "nbformat_minor": 0,
  "metadata": {
    "colab": {
      "provenance": []
    },
    "kernelspec": {
      "name": "python3",
      "display_name": "Python 3"
    },
    "language_info": {
      "name": "python"
    }
  },
  "cells": [
    {
      "cell_type": "code",
      "execution_count": 1,
      "metadata": {
        "id": "0wtNnX01xhpb"
      },
      "outputs": [],
      "source": [
        "import tensorflow as tf"
      ]
    },
    {
      "cell_type": "code",
      "source": [
        "fmnist = tf.keras.datasets.fashion_mnist\n",
        "(training_images, training_labels), (test_images, test_labels) = fmnist.load_data()\n",
        "\n",
        "# Normalize the pixel values\n",
        "training_images = training_images / 255.0\n",
        "test_images = test_images / 255.0"
      ],
      "metadata": {
        "id": "Cks1eYSuxqTT"
      },
      "execution_count": 8,
      "outputs": []
    },
    {
      "cell_type": "code",
      "source": [
        "model = tf.keras.Sequential([\n",
        "\n",
        "  #Convoltional layer(s)\n",
        "  tf.keras.layers.Conv2D(32, (3,3), activation = \"relu\", input_shape = (28,28,1)), #32 Nuerons with convlotion matrix 3x3\n",
        "  tf.keras.layers.MaxPool2D(2,2), #Max of 2x2 matrix\n",
        "  tf.keras.layers.Conv2D(32, (3,3), activation = \"relu\"),\n",
        "  tf.keras.layers.MaxPool2D(2,2),\n",
        "\n",
        "  #Normal Layers\n",
        "  tf.keras.layers.Flatten(), #Flatten matrix to array\n",
        "  tf.keras.layers.Dense(128,activation=\"relu\"), #Dense is normal layer, relu is x for x if x > 0 else 0\n",
        "  tf.keras.layers.Dense(10,activation=\"softmax\")\n",
        "])"
      ],
      "metadata": {
        "id": "h14ifyE3x7JT"
      },
      "execution_count": 14,
      "outputs": []
    },
    {
      "cell_type": "code",
      "source": [
        "model.summary()"
      ],
      "metadata": {
        "colab": {
          "base_uri": "https://localhost:8080/"
        },
        "id": "3kNnp6UHzfBH",
        "outputId": "80c2f2aa-3772-45e3-aa68-ea047c2785d1"
      },
      "execution_count": 15,
      "outputs": [
        {
          "output_type": "stream",
          "name": "stdout",
          "text": [
            "Model: \"sequential_4\"\n",
            "_________________________________________________________________\n",
            " Layer (type)                Output Shape              Param #   \n",
            "=================================================================\n",
            " conv2d_8 (Conv2D)           (None, 26, 26, 32)        320       \n",
            "                                                                 \n",
            " max_pooling2d_8 (MaxPoolin  (None, 13, 13, 32)        0         \n",
            " g2D)                                                            \n",
            "                                                                 \n",
            " conv2d_9 (Conv2D)           (None, 11, 11, 32)        9248      \n",
            "                                                                 \n",
            " max_pooling2d_9 (MaxPoolin  (None, 5, 5, 32)          0         \n",
            " g2D)                                                            \n",
            "                                                                 \n",
            " flatten_4 (Flatten)         (None, 800)               0         \n",
            "                                                                 \n",
            " dense_8 (Dense)             (None, 128)               102528    \n",
            "                                                                 \n",
            " dense_9 (Dense)             (None, 10)                1290      \n",
            "                                                                 \n",
            "=================================================================\n",
            "Total params: 113386 (442.91 KB)\n",
            "Trainable params: 113386 (442.91 KB)\n",
            "Non-trainable params: 0 (0.00 Byte)\n",
            "_________________________________________________________________\n"
          ]
        }
      ]
    },
    {
      "cell_type": "code",
      "source": [
        "model.compile(optimizer='adam', loss='sparse_categorical_crossentropy', metrics=['accuracy'])\n",
        "model.fit(training_images, training_labels, epochs=5)"
      ],
      "metadata": {
        "colab": {
          "base_uri": "https://localhost:8080/"
        },
        "id": "nZVwg4-Qz1Rz",
        "outputId": "6f2fc801-a9db-45c6-c775-75bddb99e87b"
      },
      "execution_count": 16,
      "outputs": [
        {
          "output_type": "stream",
          "name": "stdout",
          "text": [
            "Epoch 1/5\n",
            "1875/1875 [==============================] - 53s 28ms/step - loss: 0.4654 - accuracy: 0.8306\n",
            "Epoch 2/5\n",
            "1875/1875 [==============================] - 49s 26ms/step - loss: 0.3162 - accuracy: 0.8851\n",
            "Epoch 3/5\n",
            "1875/1875 [==============================] - 48s 26ms/step - loss: 0.2701 - accuracy: 0.8995\n",
            "Epoch 4/5\n",
            "1875/1875 [==============================] - 49s 26ms/step - loss: 0.2398 - accuracy: 0.9107\n",
            "Epoch 5/5\n",
            "1875/1875 [==============================] - 48s 26ms/step - loss: 0.2154 - accuracy: 0.9195\n"
          ]
        },
        {
          "output_type": "execute_result",
          "data": {
            "text/plain": [
              "<keras.src.callbacks.History at 0x7e4357d5dab0>"
            ]
          },
          "metadata": {},
          "execution_count": 16
        }
      ]
    },
    {
      "cell_type": "code",
      "source": [
        "model.evaluate(test_images,test_labels)"
      ],
      "metadata": {
        "colab": {
          "base_uri": "https://localhost:8080/"
        },
        "id": "OBl9ZJUF0796",
        "outputId": "59a4f7d7-04e8-4b40-cb8a-d5a929a24724"
      },
      "execution_count": 17,
      "outputs": [
        {
          "output_type": "stream",
          "name": "stdout",
          "text": [
            "313/313 [==============================] - 4s 12ms/step - loss: 0.2588 - accuracy: 0.9054\n"
          ]
        },
        {
          "output_type": "execute_result",
          "data": {
            "text/plain": [
              "[0.2588324546813965, 0.9053999781608582]"
            ]
          },
          "metadata": {},
          "execution_count": 17
        }
      ]
    },
    {
      "cell_type": "code",
      "source": [],
      "metadata": {
        "id": "92wfh7Xw2IBc"
      },
      "execution_count": null,
      "outputs": []
    }
  ]
}